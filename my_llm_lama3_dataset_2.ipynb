{
 "cells": [
  {
   "cell_type": "code",
   "execution_count": null,
   "metadata": {
    "vscode": {
     "languageId": "powershell"
    }
   },
   "outputs": [
    {
     "ename": "SyntaxError",
     "evalue": "invalid syntax (2185429697.py, line 1)",
     "output_type": "error",
     "traceback": [
      "\u001b[1;36m  Cell \u001b[1;32mIn[6], line 1\u001b[1;36m\u001b[0m\n\u001b[1;33m    pip install matplotlib\u001b[0m\n\u001b[1;37m        ^\u001b[0m\n\u001b[1;31mSyntaxError\u001b[0m\u001b[1;31m:\u001b[0m invalid syntax\n"
     ]
    }
   ],
   "source": [
    "pip install transformers datasets torch accelerate peft\n",
    "pip install kagglehub\n",
    "pip install matplotlib\n",
    "\n"
   ]
  },
  {
   "cell_type": "code",
   "execution_count": 1,
   "metadata": {},
   "outputs": [
    {
     "name": "stderr",
     "output_type": "stream",
     "text": [
      "c:\\Users\\Joshua\\Desktop\\python_ai\\.venv\\Lib\\site-packages\\tqdm\\auto.py:21: TqdmWarning: IProgress not found. Please update jupyter and ipywidgets. See https://ipywidgets.readthedocs.io/en/stable/user_install.html\n",
      "  from .autonotebook import tqdm as notebook_tqdm\n"
     ]
    }
   ],
   "source": [
    "import kagglehub\n",
    "import pandas as pd\n",
    "import os, json, random\n",
    "from textwrap import dedent\n",
    "from typing import Dict\n",
    "import matplotlib.pyplot as plt\n",
    "from matplotlib.ticker import PercentFormatter\n",
    "\n",
    "import numpy as np\n",
    "from sklearn.model_selection import train_test_split\n",
    "\n",
    "from transformers import AutoModelForCausalLM, TrainingArguments, AutoTokenizer, BitsAndBytesConfig, pipeline\n",
    "from trl import SFTTrainer, DataCollatorForCompletionOnlyLM\n",
    "from peft import LoraConfig, get_peft_model, prepare_model_for_kbit_training\n",
    "from datasets import load_dataset\n",
    "from torch.utils.data import DataLoader, Dataset\n",
    "import torch\n",
    "import re\n"
   ]
  },
  {
   "cell_type": "code",
   "execution_count": 2,
   "metadata": {},
   "outputs": [
    {
     "name": "stderr",
     "output_type": "stream",
     "text": [
      "c:\\Users\\Joshua\\Desktop\\python_ai\\.venv\\Lib\\site-packages\\accelerate\\utils\\modeling.py:841: UserWarning: expandable_segments not supported on this platform (Triggered internally at C:\\actions-runner\\_work\\pytorch\\pytorch\\builder\\windows\\pytorch\\c10/cuda/CUDAAllocatorConfig.h:28.)\n",
      "  _ = torch.tensor([0], device=i)\n",
      "Loading checkpoint shards: 100%|██████████| 4/4 [00:10<00:00,  2.60s/it]\n",
      "The new embeddings will be initialized from a multivariate normal distribution that has old embeddings' mean and covariance. As described in this article: https://nlp.stanford.edu/~johnhew/vocab-expansion.html. To disable this, use `mean_resizing=False`\n",
      "The new lm_head weights will be initialized from a multivariate normal distribution that has old embeddings' mean and covariance. As described in this article: https://nlp.stanford.edu/~johnhew/vocab-expansion.html. To disable this, use `mean_resizing=False`\n"
     ]
    },
    {
     "name": "stdout",
     "output_type": "stream",
     "text": [
      "Tokenizer vocabulary size: 128261\n",
      "Model embedding size: 128261\n",
      "Special tokens:\n",
      "  BOS token: <s>\n",
      "  EOS token: </s>\n",
      "  PAD token: </s>\n",
      "  Additional special tokens: ['<EQ>', '<EXPL>']\n"
     ]
    }
   ],
   "source": [
    "model_id = r\"C:\\Users\\Joshua\\Desktop\\python_ai\\llm_code\\llama31\\Llama-3.1-8B-Instruct\"\n",
    "\n",
    "# Loading model\n",
    "quantization_config = BitsAndBytesConfig(\n",
    "    load_in_4bit=True,\n",
    "    bnb_4bit_compute_dtype=torch.bfloat16,\n",
    "    bnb_4bit_quant_type=\"nf4\"\n",
    ") # INSPECT MORE\n",
    "\n",
    "llm_model = AutoModelForCausalLM.from_pretrained(\n",
    "    pretrained_model_name_or_path=model_id,\n",
    "    quantization_config=quantization_config,\n",
    "    torch_dtype=torch.bfloat16,\n",
    "    device_map=\"auto\"\n",
    ")\n",
    "\n",
    "# Tokenizer\n",
    "special_tokens_dict = {\n",
    "    \"bos_token\": \"<s>\",\n",
    "    \"eos_token\": \"</s>\",\n",
    "    \"pad_token\": \"<pad>\",\n",
    "    \"additional_special_tokens\": [\"<EQ>\", \"<EXPL>\"]\n",
    "}\n",
    "\n",
    "tokenizer = AutoTokenizer.from_pretrained(model_id)\n",
    "add_special_tokens = tokenizer.add_special_tokens(special_tokens_dict)\n",
    "\n",
    "tokenizer.pad_token = tokenizer.eos_token\n",
    "tokenizer.padding_side = \"right\"\n",
    "\n",
    "if add_special_tokens > 0:\n",
    "    llm_model.resize_token_embeddings(len(tokenizer))\n",
    "\n",
    "# Debug\n",
    "print(\"Tokenizer vocabulary size:\", len(tokenizer))\n",
    "print(\"Model embedding size:\", llm_model.get_input_embeddings().weight.size(0))\n",
    "print(\"Special tokens:\")\n",
    "print(\"  BOS token:\", tokenizer.bos_token)\n",
    "print(\"  EOS token:\", tokenizer.eos_token)\n",
    "print(\"  PAD token:\", tokenizer.pad_token)\n",
    "print(\"  Additional special tokens:\", tokenizer.additional_special_tokens)"
   ]
  },
  {
   "cell_type": "code",
   "execution_count": 3,
   "metadata": {},
   "outputs": [
    {
     "name": "stdout",
     "output_type": "stream",
     "text": [
      "To produce a build under $250.77\n",
      "\n",
      "1. **CPU**: Intel Core i5-10600KF 4.1 GHz 6-Core Processor - $84.22 USD\n",
      "2. **Motherboard**: Asus PRIME H410M-E Micro ATX LGA1200 Motherboard - $0.00 USD\n",
      "3. **Memory**: Corsair Vengeance LPX 16 GB (2 x 8 GB) DDR4-3200 CL16 Memory - $21.82 USD\n",
      "4. **Storage**: Toshiba DT01ACA200 2 TB 3.5\" 7200 RPM Internal Hard Drive - $0.00 USD\n",
      "5. **Storage**: Western Digital SN530 512 GB M.2-2280 PCIe 3.0 X4 NVME Solid State Drive - $21.82 USD\n",
      "6. **Video Card**: Asus Phoenix OC GeForce GTX 1660 SUPER 6 GB Video Card - $72.73 USD\n",
      "7. **Case**: KOLINK OBSERVATORY LITE MESH RGB ATX Mid Tower Case - $21.82 USD\n",
      "8. **Custom**: ZALMAN's CNPS9X Optima w/White LED Fan - $13.96 USD\n",
      "9. **Custom**: LogiLink PC0057 PCI Expres Card 4x USB3.0 - $14.40 USD\n",
      "10. **Custom**: Energon EP​​S-750W IT​E​M NO.: 8​88​82021 -                                     $0.00 USD\n",
      "                                \n",
      "\n",
      "**Total Cost:**: $250.77\n"
     ]
    }
   ],
   "source": [
    "dataset_path = r\"C:\\Users\\Joshua\\Desktop\\python_ai\\llm_code\\datasets\\pc_build_parts.json\"\n",
    "\n",
    "with open(dataset_path, 'r') as file:\n",
    "    dataset = json.load(file)\n",
    "\n",
    "\n",
    "budget_template = \"Build me a PC around ${budget}.\"\n",
    "\n",
    "def format_parts(parts, float_cost, total):\n",
    "    result = f\"To produce a build under ${float_cost}\\n\\n\"\n",
    "    for i, part in enumerate(parts, start=1):\n",
    "        result += f\"{i}. **{part['Type']}**: {part['Name']} - {part['Price']}\\n\"\n",
    "    result += f\"\\n**Total Cost:**: ${total}\"\n",
    "    return result\n",
    "\n",
    "def round_to_nearest_100(value):\n",
    "    return round(value / 100) * 100\n",
    "\n",
    "rows = []\n",
    "for build in dataset:\n",
    "    description = \" \".join(build[\"Description\"])\n",
    "    parts = build[\"Part List\"][\"Parts\"]\n",
    "    total_cost = build[\"Part List\"][\"Total\"]\n",
    "    clean_cost = re.sub(r'[^0-9.]', '', total_cost)\n",
    "    float_cost = float(clean_cost)\n",
    "\n",
    "    rows.append({\n",
    "        \"question\": budget_template.format(budget=round_to_nearest_100(float_cost)),\n",
    "        \"context\": f\"{description}.\",\n",
    "        \"answer\": f\"{format_parts(parts, float_cost, clean_cost)}\"\n",
    "    })\n",
    "\n",
    "df = pd.DataFrame(rows)\n",
    "formatted_output = format_parts(parts, float_cost, clean_cost)\n",
    "print(formatted_output)"
   ]
  },
  {
   "cell_type": "code",
   "execution_count": 4,
   "metadata": {},
   "outputs": [
    {
     "data": {
      "text/html": [
       "<div>\n",
       "<style scoped>\n",
       "    .dataframe tbody tr th:only-of-type {\n",
       "        vertical-align: middle;\n",
       "    }\n",
       "\n",
       "    .dataframe tbody tr th {\n",
       "        vertical-align: top;\n",
       "    }\n",
       "\n",
       "    .dataframe thead th {\n",
       "        text-align: right;\n",
       "    }\n",
       "</style>\n",
       "<table border=\"1\" class=\"dataframe\">\n",
       "  <thead>\n",
       "    <tr style=\"text-align: right;\">\n",
       "      <th></th>\n",
       "      <th>question</th>\n",
       "      <th>context</th>\n",
       "      <th>answer</th>\n",
       "    </tr>\n",
       "  </thead>\n",
       "  <tbody>\n",
       "    <tr>\n",
       "      <th>0</th>\n",
       "      <td>Build me a PC around $1300.</td>\n",
       "      <td>My Sons 1st Build.. used for school and some g...</td>\n",
       "      <td>To produce a build under $1284.46\\n\\n1. **CPU*...</td>\n",
       "    </tr>\n",
       "    <tr>\n",
       "      <th>1</th>\n",
       "      <td>Build me a PC around $2500.</td>\n",
       "      <td>My first gaming pc in 8 years and first ever s...</td>\n",
       "      <td>To produce a build under $2520.0\\n\\n1. **CPU**...</td>\n",
       "    </tr>\n",
       "    <tr>\n",
       "      <th>2</th>\n",
       "      <td>Build me a PC around $4200.</td>\n",
       "      <td>Built the quietest gaming PC with an AMD Ryzen...</td>\n",
       "      <td>To produce a build under $4160.52\\n\\n1. **CPU*...</td>\n",
       "    </tr>\n",
       "    <tr>\n",
       "      <th>3</th>\n",
       "      <td>Build me a PC around $600.</td>\n",
       "      <td>This is the product of some parts swaps for a ...</td>\n",
       "      <td>To produce a build under $571.96\\n\\n1. **CPU**...</td>\n",
       "    </tr>\n",
       "    <tr>\n",
       "      <th>4</th>\n",
       "      <td>Build me a PC around $4900.</td>\n",
       "      <td>Decided to upgrade form the 13900k to 14900kf....</td>\n",
       "      <td>To produce a build under $4949.51\\n\\n1. **CPU*...</td>\n",
       "    </tr>\n",
       "    <tr>\n",
       "      <th>...</th>\n",
       "      <td>...</td>\n",
       "      <td>...</td>\n",
       "      <td>...</td>\n",
       "    </tr>\n",
       "    <tr>\n",
       "      <th>119315</th>\n",
       "      <td>Build me a PC around $6200.</td>\n",
       "      <td>Gaming..</td>\n",
       "      <td>To produce a build under $6241.34\\n\\n1. **CPU*...</td>\n",
       "    </tr>\n",
       "    <tr>\n",
       "      <th>119316</th>\n",
       "      <td>Build me a PC around $3700.</td>\n",
       "      <td>cat videos at 8k WHO Aside from cat videos, th...</td>\n",
       "      <td>To produce a build under $3714.62\\n\\n1. **CPU*...</td>\n",
       "    </tr>\n",
       "    <tr>\n",
       "      <th>119317</th>\n",
       "      <td>Build me a PC around $200.</td>\n",
       "      <td>After 4 years with the Ryzen 5 2600 and RX 570...</td>\n",
       "      <td>To produce a build under $187.77\\n\\n1. **CPU**...</td>\n",
       "    </tr>\n",
       "    <tr>\n",
       "      <th>119318</th>\n",
       "      <td>Build me a PC around $4100.</td>\n",
       "      <td>Built a PC for my gf and she made it her own. ...</td>\n",
       "      <td>To produce a build under $4102.53\\n\\n1. **CPU*...</td>\n",
       "    </tr>\n",
       "    <tr>\n",
       "      <th>119319</th>\n",
       "      <td>Build me a PC around $300.</td>\n",
       "      <td>Leftovers from previous upgrades. The case was...</td>\n",
       "      <td>To produce a build under $250.77\\n\\n1. **CPU**...</td>\n",
       "    </tr>\n",
       "  </tbody>\n",
       "</table>\n",
       "<p>119320 rows × 3 columns</p>\n",
       "</div>"
      ],
      "text/plain": [
       "                           question  \\\n",
       "0       Build me a PC around $1300.   \n",
       "1       Build me a PC around $2500.   \n",
       "2       Build me a PC around $4200.   \n",
       "3        Build me a PC around $600.   \n",
       "4       Build me a PC around $4900.   \n",
       "...                             ...   \n",
       "119315  Build me a PC around $6200.   \n",
       "119316  Build me a PC around $3700.   \n",
       "119317   Build me a PC around $200.   \n",
       "119318  Build me a PC around $4100.   \n",
       "119319   Build me a PC around $300.   \n",
       "\n",
       "                                                  context  \\\n",
       "0       My Sons 1st Build.. used for school and some g...   \n",
       "1       My first gaming pc in 8 years and first ever s...   \n",
       "2       Built the quietest gaming PC with an AMD Ryzen...   \n",
       "3       This is the product of some parts swaps for a ...   \n",
       "4       Decided to upgrade form the 13900k to 14900kf....   \n",
       "...                                                   ...   \n",
       "119315                                           Gaming..   \n",
       "119316  cat videos at 8k WHO Aside from cat videos, th...   \n",
       "119317  After 4 years with the Ryzen 5 2600 and RX 570...   \n",
       "119318  Built a PC for my gf and she made it her own. ...   \n",
       "119319  Leftovers from previous upgrades. The case was...   \n",
       "\n",
       "                                                   answer  \n",
       "0       To produce a build under $1284.46\\n\\n1. **CPU*...  \n",
       "1       To produce a build under $2520.0\\n\\n1. **CPU**...  \n",
       "2       To produce a build under $4160.52\\n\\n1. **CPU*...  \n",
       "3       To produce a build under $571.96\\n\\n1. **CPU**...  \n",
       "4       To produce a build under $4949.51\\n\\n1. **CPU*...  \n",
       "...                                                   ...  \n",
       "119315  To produce a build under $6241.34\\n\\n1. **CPU*...  \n",
       "119316  To produce a build under $3714.62\\n\\n1. **CPU*...  \n",
       "119317  To produce a build under $187.77\\n\\n1. **CPU**...  \n",
       "119318  To produce a build under $4102.53\\n\\n1. **CPU*...  \n",
       "119319  To produce a build under $250.77\\n\\n1. **CPU**...  \n",
       "\n",
       "[119320 rows x 3 columns]"
      ]
     },
     "execution_count": 4,
     "metadata": {},
     "output_type": "execute_result"
    }
   ],
   "source": [
    "df.isnull().value_counts()\n",
    "df"
   ]
  },
  {
   "cell_type": "code",
   "execution_count": 5,
   "metadata": {},
   "outputs": [],
   "source": [
    "def format_dataset(row: dict):\n",
    "    prompt = dedent(\n",
    "        f\"\"\"\n",
    "    {row[\"question\"]}\n",
    "\n",
    "    Information:\n",
    "\n",
    "    ```\n",
    "    {row[\"context\"]}\n",
    "    ```\n",
    "    \"\"\"\n",
    "    )\n",
    "    messages = [\n",
    "        {\n",
    "            \"role\":\"system\",\n",
    "            \"content\": \"Use only the information to answer the question\",\n",
    "        },\n",
    "        {\"role\":\"user\", \"content\": prompt},\n",
    "        {\"role\":\"assistant\", \"content\": row[\"answer\"]},\n",
    "    ]\n",
    "    return tokenizer.apply_chat_template(messages, tokenize=False)"
   ]
  },
  {
   "cell_type": "code",
   "execution_count": 6,
   "metadata": {},
   "outputs": [],
   "source": [
    "df[\"text\"] = df.apply(format_dataset, axis=1)"
   ]
  },
  {
   "cell_type": "code",
   "execution_count": 7,
   "metadata": {},
   "outputs": [],
   "source": [
    "def count_tokens(row: Dict) -> int:\n",
    "    return len(\n",
    "        tokenizer(\n",
    "            row[\"text\"],\n",
    "            add_special_tokens=True,\n",
    "            return_attention_mask=False,\n",
    "        )[\"input_ids\"]\n",
    "    )"
   ]
  },
  {
   "cell_type": "code",
   "execution_count": 8,
   "metadata": {},
   "outputs": [],
   "source": [
    "df[\"token_count\"] = df.apply(count_tokens, axis=1)"
   ]
  },
  {
   "cell_type": "code",
   "execution_count": 9,
   "metadata": {},
   "outputs": [
    {
     "data": {
      "image/png": "[encoded data removed]",
      "text/plain": [
       "<Figure size 640x480 with 1 Axes>"
      ]
     },
     "metadata": {},
     "output_type": "display_data"
    }
   ],
   "source": [
    "plt.hist(df.token_count, weights=np.ones(len(df.token_count)) / len(df.token_count))\n",
    "plt.gca().yaxis.set_major_formatter(PercentFormatter(1))\n",
    "plt.xlabel(\"Tokens\")\n",
    "plt.ylabel(\"Percentage\")\n",
    "plt.show()"
   ]
  },
  {
   "cell_type": "code",
   "execution_count": 10,
   "metadata": {},
   "outputs": [
    {
     "data": {
      "text/plain": [
       "(118465, 119320, 0.9939406637613141)"
      ]
     },
     "execution_count": 10,
     "metadata": {},
     "output_type": "execute_result"
    }
   ],
   "source": [
    "# Tell us the length\n",
    "len(df[df.token_count < 2000]), len(df), len(df[df.token_count < 2100]) / len(df)"
   ]
  },
  {
   "cell_type": "code",
   "execution_count": 11,
   "metadata": {},
   "outputs": [
    {
     "data": {
      "text/plain": [
       "(11000, 5)"
      ]
     },
     "execution_count": 11,
     "metadata": {},
     "output_type": "execute_result"
    }
   ],
   "source": [
    "df = df[df.token_count < 2100]\n",
    "df = df.sample(11000)\n",
    "df.shape"
   ]
  },
  {
   "cell_type": "code",
   "execution_count": 13,
   "metadata": {},
   "outputs": [
    {
     "name": "stdout",
     "output_type": "stream",
     "text": [
      "Train dataset size: 8800\n",
      "Validation dataset size: 1760\n",
      "Test dataset size: 440\n"
     ]
    }
   ],
   "source": [
    "train, temp = train_test_split(df, test_size=0.2)\n",
    "val, test = train_test_split(temp, test_size=0.2)\n",
    "\n",
    "print(f\"Train dataset size: {len(train)}\")\n",
    "print(f\"Validation dataset size: {len(val)}\")\n",
    "print(f\"Test dataset size: {len(test)}\")\n",
    "\n",
    "train.sample(n=8000).to_json(\"split_sets/train.json\", orient=\"records\", lines=True)\n",
    "val.sample(n=1500).to_json(\"split_sets/val.json\", orient=\"records\", lines=True)\n",
    "test.sample(n=400).to_json(\"split_sets/test.json\", orient=\"records\", lines=True)"
   ]
  },
  {
   "cell_type": "code",
   "execution_count": 14,
   "metadata": {},
   "outputs": [
    {
     "name": "stdout",
     "output_type": "stream",
     "text": [
      "                           question  \\\n",
      "118530  Build me a PC around $2600.   \n",
      "101161  Build me a PC around $3000.   \n",
      "107552  Build me a PC around $1300.   \n",
      "18825   Build me a PC around $1400.   \n",
      "81276   Build me a PC around $1400.   \n",
      "\n",
      "                                                  context  \\\n",
      "118530  Upgraded my last build with NZXT Kraken Elite ...   \n",
      "101161  First time building a PC from scratch. I decid...   \n",
      "107552  mainly gaming orientated with light useage of ...   \n",
      "18825   1k+ frames for modded minecraft so no complain...   \n",
      "81276   Built this for a friend's sons Xmas gift. Have...   \n",
      "\n",
      "                                                   answer  \\\n",
      "118530  To produce a build under $2613.65\\n\\n1. **CPU*...   \n",
      "101161  To produce a build under $2999.62\\n\\n1. **CPU*...   \n",
      "107552  To produce a build under $1250.39\\n\\n1. **CPU*...   \n",
      "18825   To produce a build under $1421.66\\n\\n1. **CPU*...   \n",
      "81276   To produce a build under $1399.77\\n\\n1. **CPU*...   \n",
      "\n",
      "                                                     text  token_count  \n",
      "118530  <s><|start_header_id|>system<|end_header_id|>\\...          784  \n",
      "101161  <s><|start_header_id|>system<|end_header_id|>\\...          757  \n",
      "107552  <s><|start_header_id|>system<|end_header_id|>\\...          332  \n",
      "18825   <s><|start_header_id|>system<|end_header_id|>\\...          451  \n",
      "81276   <s><|start_header_id|>system<|end_header_id|>\\...          608  \n"
     ]
    }
   ],
   "source": [
    "# Finetune Below\n",
    "print(train.head())"
   ]
  },
  {
   "cell_type": "code",
   "execution_count": 15,
   "metadata": {},
   "outputs": [
    {
     "name": "stderr",
     "output_type": "stream",
     "text": [
      "Generating train split: 8000 examples [00:00, 90911.49 examples/s]\n",
      "Generating validation split: 1500 examples [00:00, 124994.16 examples/s]\n",
      "Generating test split: 400 examples [00:00, 50018.53 examples/s]\n"
     ]
    },
    {
     "name": "stdout",
     "output_type": "stream",
     "text": [
      "<s><|start_header_id|>system<|end_header_id|>\n",
      "\n",
      "Cutting Knowledge Date: December 2023\n",
      "Today Date: 26 Jul 2024\n",
      "\n",
      "Use only the information to answer the question<|eot_id|><|start_header_id|>user<|end_header_id|>\n",
      "\n",
      "Build me a PC around $2800.\n",
      "\n",
      "Information:\n",
      "\n",
      "```\n",
      "Based PC for gaming and such..\n",
      "```<|eot_id|><|start_header_id|>assistant<|end_header_id|>\n",
      "\n",
      "To produce a build under $2829.55\n",
      "\n",
      "1. **CPU**: Intel Core i7-13700K 3.4 GHz 16-Core Processor - $301.69 USD\n",
      "2. **Thermal Compound**: Arctic Silver 5 High-Density Polysynthetic Silver 12 g Thermal Paste - $26.00\n",
      "3. **Motherboard**: Asus ROG STRIX Z690-E GAMING WIFI ATX LGA1700 Motherboard - $180.36 USD\n",
      "4. **Memory**: Corsair Vengeance RGB 32 GB (2 x 16 GB) DDR5-6200 CL36 Memory - $209.00\n",
      "5. **Storage**: Samsung 850 Evo 500 GB 2.5\" Solid State Drive - None\n",
      "6. **Storage**: Samsung 860 QVO 1 TB 2.5\" Solid State Drive - $183.59\n",
      "7. **Storage**: Samsung 970 Evo Plus 1 TB M.2-2280 PCIe 3.0 X4 NVME Solid State Drive - $99.00\n",
      "8. **Storage**: Samsung 970 Evo Plus 2 TB M.2-2280 PCIe 3.0 X4 NVME Solid State Drive - $288.00\n",
      "9. **Storage**: Crucial BX500 1 TB 2.5\" Solid State Drive - $85.00\n",
      "10. **Storage**: Crucial BX500 1 TB 2.5\" Solid State Drive - $85.00\n",
      "11. **Storage**: Western Digital Black SN750 Rev2 500 GB M.2-2280 PCIe 3.0 X4 NVME Solid State Drive - None\n",
      "12. **Video Card**: Asus DUAL OC GeForce RTX 4060 Ti 8 GB Video Card - $770.00\n",
      "13. **Case**: Thermaltake Core P3 ATX Mid Tower Case - $334.88\n",
      "14. **Power Supply**: Corsair RM850 850 W 80+ Gold Certified Fully Modular ATX Power Supply - $199.00\n",
      "15. **Operating System**: Microsoft Windows 11 Pro OEM - DVD 64-bit - $229.00\n",
      "16. **Case Fan**: Corsair iCUE ML120 RGB ELITE Premium 58.1 CFM 120 mm Fans 3-Pack - $160.54\n",
      "17. **Case Fan**: Corsair iCUE ML120 RGB ELITE Premium 58.1 CFM 120 mm Fans 3-Pack - $160.54\n",
      "18. **Monitor**: Asus VH236H 23.0\" 1920 x 1080 Monitor - None\n",
      "19. **Monitor**: Acer Nitro KG251Q Z 24.5\" 1920 x 1080 250 Hz Monitor - None\n",
      "20. **Keyboard**: Ducky ONE 3 RGB Wired Gaming Keyboard - None\n",
      "21. **Mouse**: Logitech G502 X Plus Wired/Wired/Wireless Optical Mouse - None\n",
      "22. **Headphones**: Logitech G733  Headset - None\n",
      "23. **Custom**: 360mm Radiator, Copper CPU Water Cooling Heat Exchanger with 1/4 inch Thread, 12 Tubes, and Screw Kit, Universal Computer Heat Sink, White - None\n",
      "24. **Custom**: EKWB EK-Quantum Velocity 2 CPU Water Block D-RGB - 1700, Nickel/Satin Titanium - None\n",
      "25. **Custom**: Thermaltake Pacific Core P5 DP-D5 Plus Distro-Plate with Pump Combo CL-W264-PL00SW-A - None\n",
      "\n",
      "**Total Cost:**: $2829.55<|eot_id|>\n"
     ]
    }
   ],
   "source": [
    "dataset = load_dataset(\n",
    "    \"json\",\n",
    "    data_files={\"train\": \"split_sets/train.json\", \"validation\": \"split_sets/val.json\", \"test\": \"split_sets/test.json\"},\n",
    ")\n",
    "print(dataset[\"train\"][0][\"text\"])"
   ]
  },
  {
   "cell_type": "code",
   "execution_count": 16,
   "metadata": {},
   "outputs": [],
   "source": [
    "# Pipeline for taking in inputs\n",
    "# del pipeline\n",
    "\n",
    "pipeline = pipeline(\n",
    "    \"text-generation\",\n",
    "    model=llm_model,\n",
    "    tokenizer=tokenizer,\n",
    "    return_full_text=False,\n",
    "    model_kwargs={\"torch_dtype\": torch.bfloat16},\n",
    "    #device=\"cuda\",\n",
    ")"
   ]
  },
  {
   "cell_type": "code",
   "execution_count": 18,
   "metadata": {},
   "outputs": [],
   "source": [
    "def create_test_prompt(data_row):\n",
    "    prompt = dedent(\n",
    "        f\"\"\"\n",
    "    {data_row[\"question\"]}\n",
    "\n",
    "    Information:\n",
    "\n",
    "    ```\n",
    "    {data_row[\"context\"]}\n",
    "    ```\n",
    "    \"\"\"\n",
    "    )\n",
    "    messages = [\n",
    "        {\n",
    "            \"role\":\"system\",\n",
    "            \"content\": \"Use only the information to answer the question\",\n",
    "        },\n",
    "        {\"role\":\"user\", \"content\": prompt},\n",
    "    ]\n",
    "    return tokenizer.apply_chat_template(messages, tokenize=False, add_generation_prompt=True)"
   ]
  },
  {
   "cell_type": "code",
   "execution_count": 19,
   "metadata": {},
   "outputs": [
    {
     "name": "stdout",
     "output_type": "stream",
     "text": [
      "<s><|start_header_id|>system<|end_header_id|>\n",
      "\n",
      "Cutting Knowledge Date: December 2023\n",
      "Today Date: 26 Jul 2024\n",
      "\n",
      "Use only the information to answer the question<|eot_id|><|start_header_id|>user<|end_header_id|>\n",
      "\n",
      "Build me a PC around $3000.\n",
      "\n",
      "Information:\n",
      "\n",
      "```\n",
      "From HotPink to Black Out! Featuring Carbon fibre suspension support struts, custom mounting hardware for all the radiators and Bitspower's new Stealth Waterblock in collaboration with Modding Cafe. The full build took close to 1.5 months and as usualy i'd like to thank all the support from our sponsors Asrock, Antec, Kingston Technology, Bitspower, Monster studio, Mayhems Solutions and RCPC. This build combo is abit of a monster, running a 4090 Founders Edition Graphics Card, 13700k and 8000mt/s CL36 DDR5 Memory. It was also a great honour yesterday to showcase the build with Antec at the Target Open Day trade show to represent them on their stand.  Thank you!.\n",
      "```<|eot_id|><|start_header_id|>assistant<|end_header_id|>\n",
      "\n",
      "\n"
     ]
    }
   ],
   "source": [
    "row = dataset[\"test\"][0]\n",
    "prompt = create_test_prompt(row)\n",
    "print(prompt)"
   ]
  },
  {
   "cell_type": "code",
   "execution_count": null,
   "metadata": {},
   "outputs": [
    {
     "name": "stdout",
     "output_type": "stream",
     "text": [
      "\n",
      "answer:     To produce a build under $2954.44\n",
      "\n",
      "1. **CPU**: Intel Core i7-13700K 3.4 GHz 16-Core Processor - $529.00\n",
      "2. **Motherboard**: ASRock Z790I Lightning WiFi Mini ITX LGA1700 Motherboard - $471.08\n",
      "3. **Memory**: Kingston Fury Renegade RGB 48 GB (2 x 24 GB) DDR5-8000 CL36 Memory - $569.00\n",
      "4. **Storage**: Samsung 870 QVO 2 TB 2.5\" Solid State Drive - $350.36\n",
      "5. **Storage**: Samsung 870 QVO 2 TB 2.5\" Solid State Drive - $350.36\n",
      "6. **Storage**: Kingston Fury Renegade 1 TB M.2-2280 PCIe 4.0 X4 NVME Solid State Drive - $149.00\n",
      "7. **Storage**: Crucial P5 Plus W/Heatsink 2 TB M.2-2280 PCIe 4.0 X4 NVME Solid State Drive - $306.64\n",
      "8. **Video Card**: NVIDIA Founders Edition GeForce RTX 4090 24 GB Video Card - None\n",
      "9. **Case**: Monster St​udio A45 -                                     $250.00 USD\n",
      "                                \n",
      "10. **Power Supply**: Antec SF850X 850 W 80+ Gold Certified Fully Modular SFX Power Supply - $180.00 USD\n",
      "11. **Operating System**: Microsoft Windows 11 Pro OEM - DVD 64-bit - $229.00\n",
      "12. **Monitor**: Dell Alienware AW3423DWF 34.2\" 3440 x 1440 165 Hz Curved Monitor - None\n",
      "\n",
      "**Total Cost:**: $2954.44\n",
      "prediction: Based on the provided information, I'll attempt to build a PC around $3000. However, please note that the original build mentioned is a high-end system with a 4090 Founders Edition Graphics Card, 13700k CPU, and 8000mt/s CL36 DDR5 Memory, which is likely above the $3000 budget.\n",
      "\n",
      "To build a PC around $3000, I'll make some compromises on the components. Here's a suggested build:\n",
      "\n",
      "**CPU:** AMD Ryzen 9 5900X - $699\n",
      "**Motherboard:** ASRock X570M Steel Legend Micro ATX - $129\n",
      "**GPU:** NVIDIA GeForce RTX 3070 - $599\n",
      "**RAM:** Corsair Vengeance LPX 16GB (2x8GB) DDR4 3200MHz - $69\n",
      "**Storage:** Samsung 970 EVO Plus 1TB M.2 NVMe SSD - $179\n",
      "**Case:** Fractal Design Meshify C ATX Mid Tower Case - $59\n",
      "**Power Supply:** EVGA 650 GS, 80+ Gold 650W - $109\n",
      "**Cooling:** Noctua NH-U14S TR4-SP3 - $39\n",
      "**Operating System:** Windows 11 Home - $139\n",
      "\n",
      "Total Cost: $2822\n",
      "\n",
      "This build should provide a good balance of performance and features while staying within the $3000 budget. However, please note that prices may vary depending on the region and availability.\n",
      "\n",
      "If you'd like to make any adjustments or have specific preferences (e.g., CPU, GPU, or case), feel free to let me know!\n",
      "\n",
      "CPU times: total: 30.2 s\n",
      "Wall time: 30.1 s\n"
     ]
    }
   ],
   "source": [
    "%%time\n",
    "outputs = pipeline(\n",
    "    prompt, \n",
    "    max_new_tokens=2000,\n",
    "    length_penalty=1,\n",
    "    num_beams=5,\n",
    "    temperature=0.3,\n",
    "    top_p=0.8,\n",
    "    repetition_penalty=1,\n",
    "    )\n",
    "\n",
    "responce = f\"\"\"\n",
    "answer:     {row[\"answer\"]}\n",
    "prediction: {outputs[0][\"generated_text\"]}\n",
    "\"\"\"\n",
    "print(responce)"
   ]
  },
  {
   "cell_type": "code",
   "execution_count": 10,
   "metadata": {},
   "outputs": [],
   "source": [
    "collator = DataCollatorForCompletionOnlyLM(response_template=\"<|end_header_id|>\", tokenizer=tokenizer)\n",
    "\n",
    "examples = [dataset[\"train\"][0][\"text\"]]\n",
    "endcodings = [tokenizer(e) for e in examples]\n",
    "\n",
    "dataloader = DataLoader(endcodings, collate_fn=collator, batch_size=1)"
   ]
  },
  {
   "cell_type": "code",
   "execution_count": 12,
   "metadata": {},
   "outputs": [
    {
     "data": {
      "text/plain": [
       "dict_keys(['input_ids', 'attention_mask', 'labels'])"
      ]
     },
     "execution_count": 12,
     "metadata": {},
     "output_type": "execute_result"
    }
   ],
   "source": [
    "batch = next(iter(dataloader))\n",
    "batch.keys()"
   ]
  },
  {
   "cell_type": "code",
   "execution_count": 13,
   "metadata": {},
   "outputs": [
    {
     "data": {
      "text/plain": [
       "tensor([[  -100,   -100,   -100,   -100,   -100,   -100,   -100,   -100,   -100,\n",
       "           -100,   -100,   -100,   -100,   -100,   -100,   -100,   -100,   -100,\n",
       "           -100,   -100,   -100,   -100,   -100,   -100,   -100,   -100,   -100,\n",
       "           -100,   -100,   -100,   -100,   -100,   -100,   -100,   -100,   -100,\n",
       "           -100,   -100,   -100,   -100,   -100,   -100,   -100,   -100,   -100,\n",
       "           -100,   -100,   -100,   -100,   -100,   -100,   -100,   -100,   -100,\n",
       "           -100,   -100,   -100,   -100,   -100,   -100,   -100,   -100,   -100,\n",
       "           -100,   -100,   -100,   -100,   -100,   -100,   -100,   -100,   -100,\n",
       "           -100,   -100,   -100,   -100,   -100,   -100,   -100,   -100,   -100,\n",
       "           -100,   -100,   -100,   -100,   -100,   -100,   -100,   -100,   -100,\n",
       "           -100,   -100,   -100,   -100,   -100,   -100,   -100,   -100,   -100,\n",
       "           -100,   -100,   -100,   -100,   -100,   -100,   -100,   -100,   -100,\n",
       "            271,  10267,    400,     88,    284,   1144,    848,     62,     17,\n",
       "            220,    679,     23,   2475,   5112,    555,    279,   2349,    315,\n",
       "           2385,  15150,     11,    369,    904,    400,     65,   4884,   1144,\n",
       "          27148,    848,  15511,     17,     61,     65,     92,    220,    679,\n",
       "             23,    284,   1144,  38118,  36802,    848,     62,     17,    220,\n",
       "            679,     23,  15523,     59,    848,     62,     17,    220,     17,\n",
       "             61,     65,     92,    284,   1144,  38118,  36802,    848,     62,\n",
       "             17,    220,    679,     23,  15523,     65,     92,   7255,     60,\n",
       "          45600,     11,  59060,    848,     62,     19,    220,    679,     23,\n",
       "            284,   1144,  38118,  36802,    848,     62,     17,    220,    679,\n",
       "             23,  15523,     17,     92,    284,   1144,  38118,    379,     17,\n",
       "           4884,  59060,    848,     62,     23,    220,    679,     23,    284,\n",
       "           1144,  38118,  36802,    848,     62,     17,    220,    679,     23,\n",
       "          15523,     18,     92,    284,   1144,  38118,    379,     18,   4884,\n",
       "            323,  59060,    848,  15511,   1227,     92,    220,    679,     23,\n",
       "            284,   1144,  38118,  36802,    848,     62,     17,    220,    679,\n",
       "             23,  15523,     21,     92,    284,   1144,  38118,    379,     21,\n",
       "           2475,  14636,     11,    279,   2163,  25417,   3185,   9221,   1144,\n",
       "             58,     88,    489,   1144,  38118,    379,     17,    489,   1144,\n",
       "          38118,    379,     18,    489,   1144,  38118,    379,     21,    284,\n",
       "           1144,   2414,      7,     16,  42815,  38118,    717,  42815,  38118,\n",
       "           1032,  42815,  38118,    845,     59,   1315,  84447,    284,    220,\n",
       "             17,     88,   7255,     60,  51197,    400,     65,  35533,     83,\n",
       "          38118,    717,   4884,    584,   1518,    430,   1144,  27148,    848,\n",
       "          15511,     17,  48922,     16,     14,     17,   3500,    220,    679,\n",
       "             23,    284,   1144,  38118,  36802,    848,     62,     17,    220,\n",
       "            679,     23,  15523,     16,     14,     17,     92,    284,    220,\n",
       "             17,     88,  27362,     60,    708,    279,   2163,  25417,   3185,\n",
       "          17239,  59060,    848,  15511,     17,  48922,     16,     14,     17,\n",
       "           3500,    220,    679,     23,   4884,    477,  59060,    848,  15511,\n",
       "             59,  27986,     17,     92,    220,    679,     23,   2475,  14636,\n",
       "             11,    400,     87,    284,   1144,  80175,  36802,  27986,     17,\n",
       "             92,   2475, 128009]])"
      ]
     },
     "execution_count": 13,
     "metadata": {},
     "output_type": "execute_result"
    }
   ],
   "source": [
    "batch[\"labels\"]"
   ]
  },
  {
   "cell_type": "code",
   "execution_count": null,
   "metadata": {},
   "outputs": [
    {
     "data": {
      "text/plain": [
       "LlamaForCausalLM(\n",
       "  (model): LlamaModel(\n",
       "    (embed_tokens): Embedding(128261, 4096)\n",
       "    (layers): ModuleList(\n",
       "      (0-31): 32 x LlamaDecoderLayer(\n",
       "        (self_attn): LlamaSdpaAttention(\n",
       "          (q_proj): Linear4bit(in_features=4096, out_features=4096, bias=False)\n",
       "          (k_proj): Linear4bit(in_features=4096, out_features=1024, bias=False)\n",
       "          (v_proj): Linear4bit(in_features=4096, out_features=1024, bias=False)\n",
       "          (o_proj): Linear4bit(in_features=4096, out_features=4096, bias=False)\n",
       "          (rotary_emb): LlamaRotaryEmbedding()\n",
       "        )\n",
       "        (mlp): LlamaMLP(\n",
       "          (gate_proj): Linear4bit(in_features=4096, out_features=14336, bias=False)\n",
       "          (up_proj): Linear4bit(in_features=4096, out_features=14336, bias=False)\n",
       "          (down_proj): Linear4bit(in_features=14336, out_features=4096, bias=False)\n",
       "          (act_fn): SiLU()\n",
       "        )\n",
       "        (input_layernorm): LlamaRMSNorm((4096,), eps=1e-05)\n",
       "        (post_attention_layernorm): LlamaRMSNorm((4096,), eps=1e-05)\n",
       "      )\n",
       "    )\n",
       "    (norm): LlamaRMSNorm((4096,), eps=1e-05)\n",
       "    (rotary_emb): LlamaRotaryEmbedding()\n",
       "  )\n",
       "  (lm_head): Linear(in_features=4096, out_features=128261, bias=False)\n",
       ")"
      ]
     },
     "execution_count": 14,
     "metadata": {},
     "output_type": "execute_result"
    }
   ],
   "source": [
    "# Chosing layers to apply LoRA to\n",
    "llm_model"
   ]
  },
  {
   "cell_type": "code",
   "execution_count": 18,
   "metadata": {},
   "outputs": [
    {
     "name": "stdout",
     "output_type": "stream",
     "text": [
      "trainable params: 83,886,080 || all params: 8,114,188,288 || trainable%: 1.0338\n"
     ]
    }
   ],
   "source": [
    "peft_config = LoraConfig(\n",
    "    task_type = \"CAUSAL_LM\", \n",
    "    r = 32, #64\n",
    "    lora_alpha = 16, #16\n",
    "    lora_dropout = 0.05, #0.1\n",
    "    bias = \"none\",\n",
    "    target_modules=[\n",
    "        \"self_attn.q_proj\",\n",
    "        \"self_attn.k_proj\",\n",
    "        \"self_attn.v_proj\",\n",
    "        \"self_attn.o_proj\",\n",
    "        \"mlp.gate_proj\",\n",
    "        \"mlp.up_proj\",\n",
    "        \"mlp.down_proj\",\n",
    "    ],\n",
    ")\n",
    "\n",
    "llm_model = prepare_model_for_kbit_training(llm_model)\n",
    "llm_model = get_peft_model(llm_model, peft_config)\n",
    "llm_model.print_trainable_parameters()"
   ]
  },
  {
   "cell_type": "code",
   "execution_count": null,
   "metadata": {},
   "outputs": [],
   "source": [
    "# FINETUNE WITH DIFFERENT DATA!!!!\n",
    "# MOVE WHERE YOU LOAD THE MODEL TO BELOW YOUR PIPELINE SO PLAY WITH MODEL CELL"
   ]
  },
  {
   "cell_type": "code",
   "execution_count": null,
   "metadata": {},
   "outputs": [],
   "source": [
    "#https://www.youtube.com/watch?v=0XPZlR3_GgI\n",
    "# 21:45"
   ]
  },
  {
   "cell_type": "code",
   "execution_count": null,
   "metadata": {},
   "outputs": [],
   "source": [
    "# Training arguments\n",
    "training_arguments = TrainingArguments(\n",
    "    output_dir=\"./test_trainer\",\n",
    "    num_train_epochs=4,\n",
    "    per_device_train_batch_size=4,\n",
    "    per_device_eval_batch_size=4,\n",
    "    gradient_accumulation_steps=1,\n",
    "    gradient_checkpointing=True,\n",
    "    optim=\"paged_adamw_32bit\",\n",
    "    save_steps=1000,\n",
    "    save_total_limit=2,\n",
    "    logging_steps=25,\n",
    "    learning_rate=2e-4,\n",
    "    weight_decay=0.001,\n",
    "    fp16=True,\n",
    "    bf16=False,\n",
    "    max_grad_norm=0.3,\n",
    "    max_steps=-1,\n",
    "    warmup_ratio=0.03,\n",
    "    group_by_length=True,\n",
    "    lr_scheduler_type=\"constant\",\n",
    "    report_to=\"tensorboard\"\n",
    ")\n",
    "\n",
    "# Fine tunning\n",
    "# Optimize training\n",
    "peft_config = LoraConfig(\n",
    "    task_type = \"CAUSAL_LM\", \n",
    "    r = 64, #64\n",
    "    lora_alpha = 16, #16\n",
    "    lora_dropout = 0.1 #0.1\n",
    ")\n",
    "#llm_model = get_peft_model(llm_model, peft_config)"
   ]
  },
  {
   "cell_type": "code",
   "execution_count": null,
   "metadata": {},
   "outputs": [
    {
     "ename": "TypeError",
     "evalue": "expected str, bytes or os.PathLike object, not DatasetDict",
     "output_type": "error",
     "traceback": [
      "\u001b[1;31m---------------------------------------------------------------------------\u001b[0m",
      "\u001b[1;31mTypeError\u001b[0m                                 Traceback (most recent call last)",
      "Cell \u001b[1;32mIn[7], line 2\u001b[0m\n\u001b[0;32m      1\u001b[0m \u001b[38;5;66;03m# Start Training with dataset\u001b[39;00m\n\u001b[1;32m----> 2\u001b[0m finetune_dataset \u001b[38;5;241m=\u001b[39m \u001b[43mload_dataset\u001b[49m\u001b[43m(\u001b[49m\u001b[43mpath\u001b[49m\u001b[38;5;241;43m=\u001b[39;49m\u001b[43mdataset\u001b[49m\u001b[43m,\u001b[49m\u001b[43m \u001b[49m\u001b[43msplit\u001b[49m\u001b[38;5;241;43m=\u001b[39;49m\u001b[38;5;124;43m\"\u001b[39;49m\u001b[38;5;124;43mtrain\u001b[39;49m\u001b[38;5;124;43m\"\u001b[39;49m\u001b[43m)\u001b[49m \u001b[38;5;66;03m# GO OVER\u001b[39;00m\n\u001b[0;32m      4\u001b[0m \u001b[38;5;28;01mdef\u001b[39;00m \u001b[38;5;21mformatting_func\u001b[39m(example):\n\u001b[0;32m      5\u001b[0m     output_texts \u001b[38;5;241m=\u001b[39m []\n",
      "File \u001b[1;32mc:\\Users\\Joshua\\Desktop\\python_ai\\.venv\\Lib\\site-packages\\datasets\\load.py:2588\u001b[0m, in \u001b[0;36mload_dataset\u001b[1;34m(path, name, data_dir, data_files, split, cache_dir, features, download_config, download_mode, verification_mode, ignore_verifications, keep_in_memory, save_infos, revision, token, use_auth_token, task, streaming, num_proc, storage_options, trust_remote_code, **config_kwargs)\u001b[0m\n\u001b[0;32m   2586\u001b[0m \u001b[38;5;28;01mif\u001b[39;00m data_files \u001b[38;5;129;01mis\u001b[39;00m \u001b[38;5;129;01mnot\u001b[39;00m \u001b[38;5;28;01mNone\u001b[39;00m \u001b[38;5;129;01mand\u001b[39;00m \u001b[38;5;129;01mnot\u001b[39;00m data_files:\n\u001b[0;32m   2587\u001b[0m     \u001b[38;5;28;01mraise\u001b[39;00m \u001b[38;5;167;01mValueError\u001b[39;00m(\u001b[38;5;124mf\u001b[39m\u001b[38;5;124m\"\u001b[39m\u001b[38;5;124mEmpty \u001b[39m\u001b[38;5;124m'\u001b[39m\u001b[38;5;124mdata_files\u001b[39m\u001b[38;5;124m'\u001b[39m\u001b[38;5;124m: \u001b[39m\u001b[38;5;124m'\u001b[39m\u001b[38;5;132;01m{\u001b[39;00mdata_files\u001b[38;5;132;01m}\u001b[39;00m\u001b[38;5;124m'\u001b[39m\u001b[38;5;124m. It should be either non-empty or None (default).\u001b[39m\u001b[38;5;124m\"\u001b[39m)\n\u001b[1;32m-> 2588\u001b[0m \u001b[38;5;28;01mif\u001b[39;00m \u001b[43mPath\u001b[49m\u001b[43m(\u001b[49m\u001b[43mpath\u001b[49m\u001b[43m,\u001b[49m\u001b[43m \u001b[49m\u001b[43mconfig\u001b[49m\u001b[38;5;241;43m.\u001b[39;49m\u001b[43mDATASET_STATE_JSON_FILENAME\u001b[49m\u001b[43m)\u001b[49m\u001b[38;5;241m.\u001b[39mexists():\n\u001b[0;32m   2589\u001b[0m     \u001b[38;5;28;01mraise\u001b[39;00m \u001b[38;5;167;01mValueError\u001b[39;00m(\n\u001b[0;32m   2590\u001b[0m         \u001b[38;5;124m\"\u001b[39m\u001b[38;5;124mYou are trying to load a dataset that was saved using `save_to_disk`. \u001b[39m\u001b[38;5;124m\"\u001b[39m\n\u001b[0;32m   2591\u001b[0m         \u001b[38;5;124m\"\u001b[39m\u001b[38;5;124mPlease use `load_from_disk` instead.\u001b[39m\u001b[38;5;124m\"\u001b[39m\n\u001b[0;32m   2592\u001b[0m     )\n\u001b[0;32m   2594\u001b[0m \u001b[38;5;28;01mif\u001b[39;00m streaming \u001b[38;5;129;01mand\u001b[39;00m num_proc \u001b[38;5;129;01mis\u001b[39;00m \u001b[38;5;129;01mnot\u001b[39;00m \u001b[38;5;28;01mNone\u001b[39;00m:\n",
      "File \u001b[1;32m~\\AppData\\Local\\Programs\\Python\\Python311\\Lib\\pathlib.py:871\u001b[0m, in \u001b[0;36mPath.__new__\u001b[1;34m(cls, *args, **kwargs)\u001b[0m\n\u001b[0;32m    869\u001b[0m \u001b[38;5;28;01mif\u001b[39;00m \u001b[38;5;28mcls\u001b[39m \u001b[38;5;129;01mis\u001b[39;00m Path:\n\u001b[0;32m    870\u001b[0m     \u001b[38;5;28mcls\u001b[39m \u001b[38;5;241m=\u001b[39m WindowsPath \u001b[38;5;28;01mif\u001b[39;00m os\u001b[38;5;241m.\u001b[39mname \u001b[38;5;241m==\u001b[39m \u001b[38;5;124m'\u001b[39m\u001b[38;5;124mnt\u001b[39m\u001b[38;5;124m'\u001b[39m \u001b[38;5;28;01melse\u001b[39;00m PosixPath\n\u001b[1;32m--> 871\u001b[0m \u001b[38;5;28mself\u001b[39m \u001b[38;5;241m=\u001b[39m \u001b[38;5;28;43mcls\u001b[39;49m\u001b[38;5;241;43m.\u001b[39;49m\u001b[43m_from_parts\u001b[49m\u001b[43m(\u001b[49m\u001b[43margs\u001b[49m\u001b[43m)\u001b[49m\n\u001b[0;32m    872\u001b[0m \u001b[38;5;28;01mif\u001b[39;00m \u001b[38;5;129;01mnot\u001b[39;00m \u001b[38;5;28mself\u001b[39m\u001b[38;5;241m.\u001b[39m_flavour\u001b[38;5;241m.\u001b[39mis_supported:\n\u001b[0;32m    873\u001b[0m     \u001b[38;5;28;01mraise\u001b[39;00m \u001b[38;5;167;01mNotImplementedError\u001b[39;00m(\u001b[38;5;124m\"\u001b[39m\u001b[38;5;124mcannot instantiate \u001b[39m\u001b[38;5;132;01m%r\u001b[39;00m\u001b[38;5;124m on your system\u001b[39m\u001b[38;5;124m\"\u001b[39m\n\u001b[0;32m    874\u001b[0m                               \u001b[38;5;241m%\u001b[39m (\u001b[38;5;28mcls\u001b[39m\u001b[38;5;241m.\u001b[39m\u001b[38;5;18m__name__\u001b[39m,))\n",
      "File \u001b[1;32m~\\AppData\\Local\\Programs\\Python\\Python311\\Lib\\pathlib.py:509\u001b[0m, in \u001b[0;36mPurePath._from_parts\u001b[1;34m(cls, args)\u001b[0m\n\u001b[0;32m    504\u001b[0m \u001b[38;5;129m@classmethod\u001b[39m\n\u001b[0;32m    505\u001b[0m \u001b[38;5;28;01mdef\u001b[39;00m \u001b[38;5;21m_from_parts\u001b[39m(\u001b[38;5;28mcls\u001b[39m, args):\n\u001b[0;32m    506\u001b[0m     \u001b[38;5;66;03m# We need to call _parse_args on the instance, so as to get the\u001b[39;00m\n\u001b[0;32m    507\u001b[0m     \u001b[38;5;66;03m# right flavour.\u001b[39;00m\n\u001b[0;32m    508\u001b[0m     \u001b[38;5;28mself\u001b[39m \u001b[38;5;241m=\u001b[39m \u001b[38;5;28mobject\u001b[39m\u001b[38;5;241m.\u001b[39m\u001b[38;5;21m__new__\u001b[39m(\u001b[38;5;28mcls\u001b[39m)\n\u001b[1;32m--> 509\u001b[0m     drv, root, parts \u001b[38;5;241m=\u001b[39m \u001b[38;5;28;43mself\u001b[39;49m\u001b[38;5;241;43m.\u001b[39;49m\u001b[43m_parse_args\u001b[49m\u001b[43m(\u001b[49m\u001b[43margs\u001b[49m\u001b[43m)\u001b[49m\n\u001b[0;32m    510\u001b[0m     \u001b[38;5;28mself\u001b[39m\u001b[38;5;241m.\u001b[39m_drv \u001b[38;5;241m=\u001b[39m drv\n\u001b[0;32m    511\u001b[0m     \u001b[38;5;28mself\u001b[39m\u001b[38;5;241m.\u001b[39m_root \u001b[38;5;241m=\u001b[39m root\n",
      "File \u001b[1;32m~\\AppData\\Local\\Programs\\Python\\Python311\\Lib\\pathlib.py:493\u001b[0m, in \u001b[0;36mPurePath._parse_args\u001b[1;34m(cls, args)\u001b[0m\n\u001b[0;32m    491\u001b[0m     parts \u001b[38;5;241m+\u001b[39m\u001b[38;5;241m=\u001b[39m a\u001b[38;5;241m.\u001b[39m_parts\n\u001b[0;32m    492\u001b[0m \u001b[38;5;28;01melse\u001b[39;00m:\n\u001b[1;32m--> 493\u001b[0m     a \u001b[38;5;241m=\u001b[39m os\u001b[38;5;241m.\u001b[39mfspath(a)\n\u001b[0;32m    494\u001b[0m     \u001b[38;5;28;01mif\u001b[39;00m \u001b[38;5;28misinstance\u001b[39m(a, \u001b[38;5;28mstr\u001b[39m):\n\u001b[0;32m    495\u001b[0m         \u001b[38;5;66;03m# Force-cast str subclasses to str (issue #21127)\u001b[39;00m\n\u001b[0;32m    496\u001b[0m         parts\u001b[38;5;241m.\u001b[39mappend(\u001b[38;5;28mstr\u001b[39m(a))\n",
      "\u001b[1;31mTypeError\u001b[0m: expected str, bytes or os.PathLike object, not DatasetDict"
     ]
    }
   ],
   "source": [
    "# Start Training with dataset\n",
    "finetune_dataset = load_dataset(path=dataset, split=\"train\") # GO OVER\n",
    "\n",
    "def formatting_func(example):\n",
    "    output_texts = []\n",
    "    for i in range(len(example['input'])):\n",
    "        text = f\"### Input: {example['input'][i]}\\n ### Output: {example['output'][i]}\\n ### Instruction: {example['instruction'][i]}\\n ### Prompt: {example['prompt'][i]}\"\n",
    "        output_texts.append(text)\n",
    "    return output_texts\n",
    "\n",
    "\n",
    "llm_model_trainer = SFTTrainer(\n",
    "    model=llm_model,\n",
    "    args=training_arguments,\n",
    "    train_dataset=finetune_dataset,\n",
    "    tokenizer=tokenizer,\n",
    "    peft_config = peft_config,\n",
    "    formatting_func=formatting_func,\n",
    ")\n",
    "\n",
    "# Start training\n",
    "latest_checkpoint = \"./test_trainer/checkpoint-1\"\n",
    "\n",
    "if latest_checkpoint:\n",
    "    print(f\"Resuming training from checkpoint: {latest_checkpoint}\")\n",
    "    llm_model_trainer.train(resume_from_checkpoint=latest_checkpoint)\n",
    "else:\n",
    "    print(\"Starting training from scratch\")\n",
    "    llm_model_trainer.train()\n",
    "\n",
    "# # Pipeline for taking in inputs\n",
    "# pipeline = pipeline(\n",
    "#     \"text-generation\",\n",
    "#     model=model_id,\n",
    "#     model_kwargs={\"torch_dtype\": torch.bfloat16},\n",
    "#     device=\"cuda\",\n",
    "# )\n",
    "\n",
    "\n"
   ]
  }
 ],
 "metadata": {
  "kernelspec": {
   "display_name": ".venv",
   "language": "python",
   "name": "python3"
  },
  "language_info": {
   "codemirror_mode": {
    "name": "ipython",
    "version": 3
   },
   "file_extension": ".py",
   "mimetype": "text/x-python",
   "name": "python",
   "nbconvert_exporter": "python",
   "pygments_lexer": "ipython3",
   "version": "3.11.9"
  }
 },
 "nbformat": 4,
 "nbformat_minor": 2
}
