{
 "cells": [
  {
   "cell_type": "code",
   "execution_count": null,
   "metadata": {
    "vscode": {
     "languageId": "powershell"
    }
   },
   "outputs": [
    {
     "name": "stdout",
     "output_type": "stream",
     "text": [
      "Collecting matplotlib\n",
      "  Downloading matplotlib-3.9.2-cp311-cp311-win_amd64.whl.metadata (11 kB)\n",
      "Collecting contourpy>=1.0.1 (from matplotlib)\n",
      "  Downloading contourpy-1.3.1-cp311-cp311-win_amd64.whl.metadata (5.4 kB)\n",
      "Collecting cycler>=0.10 (from matplotlib)\n",
      "  Using cached cycler-0.12.1-py3-none-any.whl.metadata (3.8 kB)\n",
      "Collecting fonttools>=4.22.0 (from matplotlib)\n",
      "  Downloading fonttools-4.55.0-cp311-cp311-win_amd64.whl.metadata (167 kB)\n",
      "Collecting kiwisolver>=1.3.1 (from matplotlib)\n",
      "  Downloading kiwisolver-1.4.7-cp311-cp311-win_amd64.whl.metadata (6.4 kB)\n",
      "Requirement already satisfied: numpy>=1.23 in c:\\users\\joshua\\desktop\\python_ai\\.venv\\lib\\site-packages (from matplotlib) (1.26.4)\n",
      "Requirement already satisfied: packaging>=20.0 in c:\\users\\joshua\\desktop\\python_ai\\.venv\\lib\\site-packages (from matplotlib) (24.1)\n",
      "Requirement already satisfied: pillow>=8 in c:\\users\\joshua\\desktop\\python_ai\\.venv\\lib\\site-packages (from matplotlib) (10.4.0)\n",
      "Collecting pyparsing>=2.3.1 (from matplotlib)\n",
      "  Downloading pyparsing-3.2.0-py3-none-any.whl.metadata (5.0 kB)\n",
      "Requirement already satisfied: python-dateutil>=2.7 in c:\\users\\joshua\\desktop\\python_ai\\.venv\\lib\\site-packages (from matplotlib) (2.9.0.post0)\n",
      "Requirement already satisfied: six>=1.5 in c:\\users\\joshua\\desktop\\python_ai\\.venv\\lib\\site-packages (from python-dateutil>=2.7->matplotlib) (1.16.0)\n",
      "Downloading matplotlib-3.9.2-cp311-cp311-win_amd64.whl (7.8 MB)\n",
      "   ---------------------------------------- 0.0/7.8 MB ? eta -:--:--\n",
      "   ------------- -------------------------- 2.6/7.8 MB 13.7 MB/s eta 0:00:01\n",
      "   ----------------------------- ---------- 5.8/7.8 MB 13.6 MB/s eta 0:00:01\n",
      "   ---------------------------------------- 7.8/7.8 MB 12.7 MB/s eta 0:00:00\n",
      "Downloading contourpy-1.3.1-cp311-cp311-win_amd64.whl (219 kB)\n",
      "Using cached cycler-0.12.1-py3-none-any.whl (8.3 kB)\n",
      "Downloading fonttools-4.55.0-cp311-cp311-win_amd64.whl (2.2 MB)\n",
      "   ---------------------------------------- 0.0/2.2 MB ? eta -:--:--\n",
      "   ---------------------------------------- 2.2/2.2 MB 12.5 MB/s eta 0:00:00\n",
      "Downloading kiwisolver-1.4.7-cp311-cp311-win_amd64.whl (56 kB)\n",
      "Downloading pyparsing-3.2.0-py3-none-any.whl (106 kB)\n",
      "Installing collected packages: pyparsing, kiwisolver, fonttools, cycler, contourpy, matplotlib\n",
      "Successfully installed contourpy-1.3.1 cycler-0.12.1 fonttools-4.55.0 kiwisolver-1.4.7 matplotlib-3.9.2 pyparsing-3.2.0\n",
      "Note: you may need to restart the kernel to use updated packages.\n"
     ]
    }
   ],
   "source": [
    "pip install transformers datasets torch accelerate peft\n",
    "pip install kagglehub\n",
    "pip install matplotlib"
   ]
  },
  {
   "cell_type": "code",
   "execution_count": 106,
   "metadata": {},
   "outputs": [],
   "source": [
    "import kagglehub\n",
    "import pandas as pd\n",
    "import os, json\n",
    "from textwrap import dedent\n",
    "from typing import Dict\n",
    "import matplotlib.pyplot as plt\n",
    "from matplotlib.ticker import PercentFormatter\n",
    "\n",
    "import numpy as np\n",
    "from sklearn.model_selection import train_test_split\n",
    "\n",
    "from transformers import AutoModelForCausalLM, TrainingArguments, AutoTokenizer, BitsAndBytesConfig, pipeline\n",
    "from trl import SFTTrainer\n",
    "from peft import LoraConfig, get_peft_model\n",
    "from datasets import load_dataset\n",
    "import torch"
   ]
  },
  {
   "cell_type": "code",
   "execution_count": 57,
   "metadata": {},
   "outputs": [
    {
     "name": "stderr",
     "output_type": "stream",
     "text": [
      "`low_cpu_mem_usage` was None, now default to True since model is quantized.\n",
      "Loading checkpoint shards:   0%|          | 0/4 [00:00<?, ?it/s]c:\\Users\\Joshua\\Desktop\\python_ai\\.venv\\Lib\\site-packages\\accelerate\\utils\\modeling.py:329: UserWarning: expandable_segments not supported on this platform (Triggered internally at C:\\actions-runner\\_work\\pytorch\\pytorch\\builder\\windows\\pytorch\\c10/cuda/CUDAAllocatorConfig.h:28.)\n",
      "  new_value = value.to(device)\n",
      "Loading checkpoint shards: 100%|██████████| 4/4 [01:02<00:00, 15.56s/it]\n"
     ]
    }
   ],
   "source": [
    "model_id = r\"C:\\Users\\Joshua\\Desktop\\python_ai\\llm_code\\llama31\\Llama-3.1-8B-Instruct\"\n",
    "\n",
    "# Loading model\n",
    "quantization_config = BitsAndBytesConfig(\n",
    "    load_in_4bit=True,\n",
    "    bnb_4bit_compute_dtype=torch.bfloat16, #float16\n",
    "    bnb_4bit_quant_type=\"nf4\"\n",
    ") # INSPECT MORE\n",
    "\n",
    "llm_model = AutoModelForCausalLM.from_pretrained(\n",
    "    pretrained_model_name_or_path=model_id,\n",
    "    quantization_config=quantization_config\n",
    ")\n",
    "\n",
    "# Tokenizer\n",
    "tokenizer = AutoTokenizer.from_pretrained(model_id)\n",
    "tokenizer.pad_token = tokenizer.eos_token\n",
    "tokenizer.padding_side = \"right\"\n",
    "\n",
    "# Training arguments\n",
    "training_arguments = TrainingArguments(\n",
    "    output_dir=\"./test_trainer\",\n",
    "    num_train_epochs=4,\n",
    "    per_device_train_batch_size=4,\n",
    "    per_device_eval_batch_size=4,\n",
    "    gradient_accumulation_steps=1,\n",
    "    gradient_checkpointing=True,\n",
    "    optim=\"paged_adamw_32bit\",\n",
    "    save_steps=1000,\n",
    "    save_total_limit=2,\n",
    "    logging_steps=25,\n",
    "    learning_rate=2e-4,\n",
    "    weight_decay=0.001,\n",
    "    fp16=False,\n",
    "    bf16=True,\n",
    "    max_grad_norm=0.3,\n",
    "    max_steps=-1,\n",
    "    warmup_ratio=0.03,\n",
    "    group_by_length=True,\n",
    "    lr_scheduler_type=\"constant\",\n",
    "    report_to=\"tensorboard\"\n",
    ")\n",
    "\n",
    "# Fine tunning\n",
    "# Optimize training\n",
    "peft_config = LoraConfig(\n",
    "    task_type = \"CAUSAL_LM\", \n",
    "    r = 64, #64\n",
    "    lora_alpha = 16, #16\n",
    "    lora_dropout = 0.1 #0.1\n",
    ")\n",
    "#llm_model = get_peft_model(llm_model, peft_config)\n",
    "\n"
   ]
  },
  {
   "cell_type": "code",
   "execution_count": null,
   "metadata": {},
   "outputs": [],
   "source": [
    "# Start Training with dataset\n",
    "finetune_dataset = load_dataset(path=dataset, split=\"train\") # GO OVER\n",
    "\n",
    "def formatting_func(example):\n",
    "    output_texts = []\n",
    "    for i in range(len(example['input'])):\n",
    "        text = f\"### Input: {example['input'][i]}\\n ### Output: {example['output'][i]}\\n ### Instruction: {example['instruction'][i]}\\n ### Prompt: {example['prompt'][i]}\"\n",
    "        output_texts.append(text)\n",
    "    return output_texts\n",
    "\n",
    "\n",
    "llm_model_trainer = SFTTrainer(\n",
    "    model=llm_model,\n",
    "    args=training_arguments,\n",
    "    train_dataset=load_dataset(path = \"Shekswess/llama3_medical_meadow_wikidoc_instruct_dataset\", split = \"train\"),\n",
    "    tokenizer=tokenizer,\n",
    "    peft_config = peft_config,\n",
    "    formatting_func=formatting_func,\n",
    ")\n",
    "\n",
    "# Start training\n",
    "latest_checkpoint = \"./test_trainer/checkpoint-10000\"\n",
    "\n",
    "if latest_checkpoint:\n",
    "    print(f\"Resuming training from checkpoint: {latest_checkpoint}\")\n",
    "    llm_model_trainer.train(resume_from_checkpoint=latest_checkpoint)\n",
    "else:\n",
    "    print(\"Starting training from scratch\")\n",
    "    llm_model_trainer.train()\n",
    "\n",
    "# Pipeline for taking in inputs\n",
    "pipeline = pipeline(\n",
    "    \"text-generation\",\n",
    "    model=model_id,\n",
    "    model_kwargs={\"torch_dtype\": torch.bfloat16},\n",
    "    device=\"cuda\",\n",
    ")\n",
    "\n",
    "\n",
    "# Prompting\n",
    "\n",
    "\n",
    "while True:\n",
    "    user_prompt = input(\"What's your question?\\n\")\n",
    "    if user_prompt == \"exit\":\n",
    "        break\n",
    "    # messages = [\n",
    "    # {\"role\": \"system\", \"content\": (\n",
    "    #     \"You are a highly knowledgeable mathematician and engineering chatbot. \"\n",
    "    #         \"Your purpose is to assist users by providing detailed, scientifically accurate explanations of mathematical and engineering concepts. \"\n",
    "    #         \"Use formal scientific language and precise terminology, ensuring your responses are comprehensive and thorough. \"\n",
    "    #         \"Reference relevant theories, equations, and examples as needed, but keep your explanations strictly text-based. \"\n",
    "    #         \"Organize your answers clearly, and aim to enhance understanding by elucidating complex concepts without oversimplifying them.\"\n",
    "    #     )},\n",
    "    # {\"role\": \"user\", \"content\": user_prompt}]\n",
    "\n",
    "    outputs = pipeline(user_prompt,max_new_tokens=256)\n",
    "    responce = outputs[0][\"generated_text\"]\n",
    "    print(responce)\n",
    "\n",
    "print(\"Exiting...\")"
   ]
  },
  {
   "cell_type": "code",
   "execution_count": 11,
   "metadata": {},
   "outputs": [
    {
     "name": "stdout",
     "output_type": "stream",
     "text": [
      "Downloading from https://www.kaggle.com/api/v1/datasets/download/mathurinache/math-dataset?dataset_version_number=1...\n"
     ]
    },
    {
     "name": "stderr",
     "output_type": "stream",
     "text": [
      "100%|██████████| 7.07M/7.07M [00:01<00:00, 5.02MB/s]"
     ]
    },
    {
     "name": "stdout",
     "output_type": "stream",
     "text": [
      "Extracting files...\n"
     ]
    },
    {
     "name": "stderr",
     "output_type": "stream",
     "text": [
      "\n"
     ]
    },
    {
     "name": "stdout",
     "output_type": "stream",
     "text": [
      "C:\\Users\\Joshua\\.cache\\kagglehub\\datasets\\mathurinache\\math-dataset\\versions\\1\n"
     ]
    }
   ],
   "source": [
    "dataset_path = kagglehub.dataset_download(\"mathurinache/math-dataset\")\n",
    "print(dataset_path)"
   ]
  },
  {
   "cell_type": "code",
   "execution_count": null,
   "metadata": {},
   "outputs": [
    {
     "name": "stdout",
     "output_type": "stream",
     "text": [
      "Training\n",
      "Category: algebra, Problems Loaded: 1744\n",
      "Category: counting_and_probability, Problems Loaded: 771\n",
      "Category: geometry, Problems Loaded: 870\n",
      "Category: intermediate_algebra, Problems Loaded: 1295\n",
      "Category: number_theory, Problems Loaded: 869\n",
      "Category: prealgebra, Problems Loaded: 1205\n",
      "Category: precalculus, Problems Loaded: 746\n",
      "Testing\n",
      "Category: algebra, Problems Loaded: 1187\n",
      "Category: counting_and_probability, Problems Loaded: 474\n",
      "Category: geometry, Problems Loaded: 479\n",
      "Category: intermediate_algebra, Problems Loaded: 903\n",
      "Category: number_theory, Problems Loaded: 540\n",
      "Category: prealgebra, Problems Loaded: 871\n",
      "Category: precalculus, Problems Loaded: 546\n"
     ]
    }
   ],
   "source": [
    "training_path = r\"C:\\Users\\Joshua\\Desktop\\python_ai\\llm_code\\datasets\\MATH\\train\"\n",
    "testing_path = r\"C:\\Users\\Joshua\\Desktop\\python_ai\\llm_code\\datasets\\MATH\\test\"\n",
    "\n",
    "def load_data(file_path):\n",
    "    dataset = {}\n",
    "    for problemType in os.listdir(file_path):\n",
    "        problemTypePath = os.path.join(file_path, problemType)\n",
    "        problems = []\n",
    "        for problem in os.listdir(problemTypePath):\n",
    "            filePath = os.path.join(problemTypePath, problem)\n",
    "            with open(filePath, 'r') as file:\n",
    "                fileContents = json.load(file)\n",
    "                problems.append(fileContents)\n",
    "        dataset[problemType] = problems\n",
    "    return dataset\n",
    "\n",
    "dataset = {\n",
    "    \"train\":load_data(training_path),\n",
    "    \"test\":load_data(testing_path)\n",
    "}\n",
    "\n",
    "print(\"Training\")\n",
    "for problemType, problems in dataset[\"train\"].items():\n",
    "    print(f\"Category: {problemType}, Problems Loaded: {len(problems)}\")\n",
    "\n",
    "print(\"Testing\")\n",
    "for problemType, problems in dataset[\"test\"].items():\n",
    "    print(f\"Category: {problemType}, Problems Loaded: {len(problems)}\")"
   ]
  },
  {
   "cell_type": "code",
   "execution_count": 89,
   "metadata": {},
   "outputs": [
    {
     "name": "stdout",
     "output_type": "stream",
     "text": [
      "Combined Dataset Summary:\n",
      "Category: algebra, Total Problems: 2931\n",
      "Category: counting_and_probability, Total Problems: 1245\n",
      "Category: geometry, Total Problems: 1349\n",
      "Category: intermediate_algebra, Total Problems: 2198\n",
      "Category: number_theory, Total Problems: 1409\n",
      "Category: prealgebra, Total Problems: 2076\n",
      "Category: precalculus, Total Problems: 1292\n"
     ]
    }
   ],
   "source": [
    "combined_dataset = {}\n",
    "for problemType, problems in load_data(training_path).items():\n",
    "    if problemType in combined_dataset:\n",
    "        combined_dataset[problemType].extend(problems)\n",
    "    else:\n",
    "        combined_dataset[problemType] = problems\n",
    "\n",
    "for problemType, problems in load_data(testing_path).items():\n",
    "    if problemType in combined_dataset:\n",
    "        combined_dataset[problemType].extend(problems)\n",
    "    else:\n",
    "        combined_dataset[problemType] = problems\n",
    "\n",
    "print(\"Combined Dataset Summary:\")\n",
    "for problemType, problems in combined_dataset.items():\n",
    "    print(f\"Category: {problemType}, Total Problems: {len(problems)}\")"
   ]
  },
  {
   "cell_type": "code",
   "execution_count": 90,
   "metadata": {},
   "outputs": [],
   "source": [
    "context_mapping = {\n",
    "        \"algebra\": \"Solve equations, simplify expressions, and analyze mathematical relationships.\",\n",
    "        \"geometry\": \"Study shapes, sizes, and the properties of space and figures.\",\n",
    "        \"prealgebra\": \"Build foundational skills for algebra, such as basic arithmetic and simple equations.\",\n",
    "        \"number theory\": \"Explore properties of numbers, divisibility, and prime numbers.\",\n",
    "        \"counting & probability\": \"Analyze counting methods and calculate probabilities.\",\n",
    "        \"precalculus\": \"Prepare for calculus by studying functions, limits, and trigonometry.\",\n",
    "        \"intermediate algebra\": \"Work on advanced algebraic concepts like quadratic equations and functions.\"\n",
    "    }\n",
    "\n",
    "rows = []\n",
    "for category, problems in combined_dataset.items():\n",
    "    for item in problems:\n",
    "        rows.append(\n",
    "            {\n",
    "                \"question\": item[\"problem\"],\n",
    "                \"context\": context_mapping.get(category.lower(), \"Explore mathematical concepts.\"),\n",
    "                \"answer\": item[\"solution\"]\n",
    "            }\n",
    "        )\n",
    "\n",
    "df = pd.DataFrame(rows)"
   ]
  },
  {
   "cell_type": "code",
   "execution_count": 91,
   "metadata": {},
   "outputs": [
    {
     "data": {
      "text/plain": [
       "question  context  answer\n",
       "False     False    False     12500\n",
       "Name: count, dtype: int64"
      ]
     },
     "execution_count": 91,
     "metadata": {},
     "output_type": "execute_result"
    }
   ],
   "source": [
    "df.head()\n",
    "df.isnull().value_counts()"
   ]
  },
  {
   "cell_type": "code",
   "execution_count": 92,
   "metadata": {},
   "outputs": [],
   "source": [
    "def format_dataset(row: dict):\n",
    "    prompt = dedent(\n",
    "        f\"\"\"\n",
    "    {row[\"question\"]}\n",
    "\n",
    "    Information:\n",
    "\n",
    "    ```\n",
    "    {row[\"context\"]}\n",
    "    ```\n",
    "    \"\"\"\n",
    "    )\n",
    "    messages = [\n",
    "        {\n",
    "            \"role\":\"system\",\n",
    "            \"content\": \"Use only the information to answer the question\",\n",
    "        },\n",
    "        {\"role\":\"user\", \"content\": prompt},\n",
    "        {\"role\":\"assistant\", \"content\": row[\"answer\"]},\n",
    "    ]\n",
    "    return tokenizer.apply_chat_template(messages, tokenize=False)"
   ]
  },
  {
   "cell_type": "code",
   "execution_count": 93,
   "metadata": {},
   "outputs": [],
   "source": [
    "df[\"text\"] = df.apply(format_dataset, axis=1)"
   ]
  },
  {
   "cell_type": "code",
   "execution_count": 94,
   "metadata": {},
   "outputs": [],
   "source": [
    "def count_tokens(row: Dict) -> int:\n",
    "    return len(\n",
    "        tokenizer(\n",
    "            row[\"text\"],\n",
    "            add_special_tokens=True,\n",
    "            return_attention_mask=False,\n",
    "        )[\"input_ids\"]\n",
    "    )"
   ]
  },
  {
   "cell_type": "code",
   "execution_count": 95,
   "metadata": {},
   "outputs": [],
   "source": [
    "df[\"token_count\"] = df.apply(count_tokens, axis=1)"
   ]
  },
  {
   "cell_type": "code",
   "execution_count": 96,
   "metadata": {},
   "outputs": [
    {
     "data": {
      "text/html": [
       "<div>\n",
       "<style scoped>\n",
       "    .dataframe tbody tr th:only-of-type {\n",
       "        vertical-align: middle;\n",
       "    }\n",
       "\n",
       "    .dataframe tbody tr th {\n",
       "        vertical-align: top;\n",
       "    }\n",
       "\n",
       "    .dataframe thead th {\n",
       "        text-align: right;\n",
       "    }\n",
       "</style>\n",
       "<table border=\"1\" class=\"dataframe\">\n",
       "  <thead>\n",
       "    <tr style=\"text-align: right;\">\n",
       "      <th></th>\n",
       "      <th>question</th>\n",
       "      <th>context</th>\n",
       "      <th>answer</th>\n",
       "      <th>text</th>\n",
       "      <th>token_count</th>\n",
       "    </tr>\n",
       "  </thead>\n",
       "  <tbody>\n",
       "    <tr>\n",
       "      <th>0</th>\n",
       "      <td>Let \\[f(x) = \\left\\{\\n\\begin{array}{cl} ax+3, ...</td>\n",
       "      <td>Solve equations, simplify expressions, and ana...</td>\n",
       "      <td>For the piecewise function to be continuous, t...</td>\n",
       "      <td>&lt;|begin_of_text|&gt;&lt;|start_header_id|&gt;system&lt;|en...</td>\n",
       "      <td>305</td>\n",
       "    </tr>\n",
       "    <tr>\n",
       "      <th>1</th>\n",
       "      <td>A rectangular band formation is a formation wi...</td>\n",
       "      <td>Solve equations, simplify expressions, and ana...</td>\n",
       "      <td>Let $x$ be the number of band members in each ...</td>\n",
       "      <td>&lt;|begin_of_text|&gt;&lt;|start_header_id|&gt;system&lt;|en...</td>\n",
       "      <td>430</td>\n",
       "    </tr>\n",
       "    <tr>\n",
       "      <th>2</th>\n",
       "      <td>What is the degree of the polynomial $(4 +5x^3...</td>\n",
       "      <td>Solve equations, simplify expressions, and ana...</td>\n",
       "      <td>This polynomial is not written in standard for...</td>\n",
       "      <td>&lt;|begin_of_text|&gt;&lt;|start_header_id|&gt;system&lt;|en...</td>\n",
       "      <td>175</td>\n",
       "    </tr>\n",
       "    <tr>\n",
       "      <th>3</th>\n",
       "      <td>Evaluate $\\left\\lceil3\\left(6-\\frac12\\right)\\r...</td>\n",
       "      <td>Solve equations, simplify expressions, and ana...</td>\n",
       "      <td>Firstly, $3\\left(6-\\frac12\\right)=18-1-\\frac12...</td>\n",
       "      <td>&lt;|begin_of_text|&gt;&lt;|start_header_id|&gt;system&lt;|en...</td>\n",
       "      <td>144</td>\n",
       "    </tr>\n",
       "    <tr>\n",
       "      <th>4</th>\n",
       "      <td>Sam is hired for a 20-day period. On days that...</td>\n",
       "      <td>Solve equations, simplify expressions, and ana...</td>\n",
       "      <td>Call $x$ the number of days Sam works and $y$ ...</td>\n",
       "      <td>&lt;|begin_of_text|&gt;&lt;|start_header_id|&gt;system&lt;|en...</td>\n",
       "      <td>313</td>\n",
       "    </tr>\n",
       "  </tbody>\n",
       "</table>\n",
       "</div>"
      ],
      "text/plain": [
       "                                            question  \\\n",
       "0  Let \\[f(x) = \\left\\{\\n\\begin{array}{cl} ax+3, ...   \n",
       "1  A rectangular band formation is a formation wi...   \n",
       "2  What is the degree of the polynomial $(4 +5x^3...   \n",
       "3  Evaluate $\\left\\lceil3\\left(6-\\frac12\\right)\\r...   \n",
       "4  Sam is hired for a 20-day period. On days that...   \n",
       "\n",
       "                                             context  \\\n",
       "0  Solve equations, simplify expressions, and ana...   \n",
       "1  Solve equations, simplify expressions, and ana...   \n",
       "2  Solve equations, simplify expressions, and ana...   \n",
       "3  Solve equations, simplify expressions, and ana...   \n",
       "4  Solve equations, simplify expressions, and ana...   \n",
       "\n",
       "                                              answer  \\\n",
       "0  For the piecewise function to be continuous, t...   \n",
       "1  Let $x$ be the number of band members in each ...   \n",
       "2  This polynomial is not written in standard for...   \n",
       "3  Firstly, $3\\left(6-\\frac12\\right)=18-1-\\frac12...   \n",
       "4  Call $x$ the number of days Sam works and $y$ ...   \n",
       "\n",
       "                                                text  token_count  \n",
       "0  <|begin_of_text|><|start_header_id|>system<|en...          305  \n",
       "1  <|begin_of_text|><|start_header_id|>system<|en...          430  \n",
       "2  <|begin_of_text|><|start_header_id|>system<|en...          175  \n",
       "3  <|begin_of_text|><|start_header_id|>system<|en...          144  \n",
       "4  <|begin_of_text|><|start_header_id|>system<|en...          313  "
      ]
     },
     "execution_count": 96,
     "metadata": {},
     "output_type": "execute_result"
    }
   ],
   "source": [
    "df.head()"
   ]
  },
  {
   "cell_type": "code",
   "execution_count": 97,
   "metadata": {},
   "outputs": [
    {
     "data": {
      "image/png": "[encoded data removed]",
      "text/plain": [
       "<Figure size 640x480 with 1 Axes>"
      ]
     },
     "metadata": {},
     "output_type": "display_data"
    }
   ],
   "source": [
    "plt.hist(df.token_count, weights=np.ones(len(df.token_count)) / len(df.token_count))\n",
    "plt.gca().yaxis.set_major_formatter(PercentFormatter(1))\n",
    "plt.xlabel(\"Tokens\")\n",
    "plt.ylabel(\"Percentage\")\n",
    "plt.show()"
   ]
  },
  {
   "cell_type": "code",
   "execution_count": 104,
   "metadata": {},
   "outputs": [
    {
     "data": {
      "text/plain": [
       "(5031, 6000, 1.0)"
      ]
     },
     "execution_count": 104,
     "metadata": {},
     "output_type": "execute_result"
    }
   ],
   "source": [
    "# Tell us the length\n",
    "len(df[df.token_count < 512]), len(df), len(df[df.token_count < 1550]) / len(df)"
   ]
  },
  {
   "cell_type": "code",
   "execution_count": 105,
   "metadata": {},
   "outputs": [
    {
     "data": {
      "text/plain": [
       "(6000, 5)"
      ]
     },
     "execution_count": 105,
     "metadata": {},
     "output_type": "execute_result"
    }
   ],
   "source": [
    "df = df[df.token_count < 1400]\n",
    "df = df.sample(6000)\n",
    "df.shape"
   ]
  },
  {
   "cell_type": "code",
   "execution_count": null,
   "metadata": {},
   "outputs": [],
   "source": [
    "train, temp = train_test_split(df, test_size=0.2)\n",
    "val, test = train_test_split(temp, test_size=0.2)\n",
    "\n",
    "train.sample(n=4000).to_json(\"split_sets/train.json\", orient=\"records\", lines=True)\n",
    "val.sample(n=500).to_json(\"split_sets/val.json\", orient=\"records\", lines=True)\n",
    "test.sample(n=100).to_json(\"split_sets/test.json\", orient=\"records\", lines=True)"
   ]
  },
  {
   "cell_type": "code",
   "execution_count": 114,
   "metadata": {},
   "outputs": [
    {
     "name": "stderr",
     "output_type": "stream",
     "text": [
      "Generating train split: 4000 examples [00:00, 61119.85 examples/s]\n",
      "Generating validation split: 500 examples [00:00, 55565.47 examples/s]\n",
      "Generating test split: 100 examples [00:00, 14283.83 examples/s]\n"
     ]
    }
   ],
   "source": [
    "dataset = load_dataset(\n",
    "    \"json\",\n",
    "    data_files={\"train\": \"split_sets/train.json\", \"validation\": \"split_sets/val.json\", \"test\": \"split_sets/test.json\"},\n",
    ")"
   ]
  },
  {
   "cell_type": "code",
   "execution_count": null,
   "metadata": {},
   "outputs": [],
   "source": [
    "#https://www.youtube.com/watch?v=0XPZlR3_GgI\n",
    "# 14:20"
   ]
  }
 ],
 "metadata": {
  "kernelspec": {
   "display_name": ".venv",
   "language": "python",
   "name": "python3"
  },
  "language_info": {
   "codemirror_mode": {
    "name": "ipython",
    "version": 3
   },
   "file_extension": ".py",
   "mimetype": "text/x-python",
   "name": "python",
   "nbconvert_exporter": "python",
   "pygments_lexer": "ipython3",
   "version": "3.11.9"
  }
 },
 "nbformat": 4,
 "nbformat_minor": 2
}
